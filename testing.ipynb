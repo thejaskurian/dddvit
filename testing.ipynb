{
 "cells": [
  {
   "cell_type": "code",
   "execution_count": 1,
   "metadata": {},
   "outputs": [
    {
     "name": "stdout",
     "output_type": "stream",
     "text": [
      "Using device: cuda\n"
     ]
    }
   ],
   "source": [
    "import torch\n",
    "device = torch.device('cuda' if torch.cuda.is_available() else 'cpu')\n",
    "print(f\"Using device: {device}\") "
   ]
  },
  {
   "cell_type": "code",
   "execution_count": 2,
   "metadata": {},
   "outputs": [
    {
     "name": "stderr",
     "output_type": "stream",
     "text": [
      "c:\\New project\\.venv\\Lib\\site-packages\\tqdm\\auto.py:21: TqdmWarning: IProgress not found. Please update jupyter and ipywidgets. See https://ipywidgets.readthedocs.io/en/stable/user_install.html\n",
      "  from .autonotebook import tqdm as notebook_tqdm\n",
      "c:\\New project\\.venv\\Lib\\site-packages\\transformers\\models\\vit\\feature_extraction_vit.py:28: FutureWarning: The class ViTFeatureExtractor is deprecated and will be removed in version 5 of Transformers. Please use ViTImageProcessor instead.\n",
      "  warnings.warn(\n"
     ]
    }
   ],
   "source": [
    "import cv2\n",
    "import torch\n",
    "from PIL import Image\n",
    "from transformers import ViTForImageClassification, ViTFeatureExtractor\n",
    "\n",
    "# Set device to CUDA if available\n",
    "device = torch.device(\"cuda\" if torch.cuda.is_available() else \"cpu\")\n",
    "\n",
    "# Load the trained model and feature extractor\n",
    "model_path = \"trained_vit_model\"\n",
    "model = ViTForImageClassification.from_pretrained(model_path).to(device)\n",
    "feature_extractor = ViTFeatureExtractor.from_pretrained(model_path)\n",
    "\n",
    "# Load Haar Cascade for face and eye detection\n",
    "face_cascade = cv2.CascadeClassifier(cv2.data.haarcascades + \"haarcascade_frontalface_default.xml\")\n",
    "eye_cascade = cv2.CascadeClassifier(cv2.data.haarcascades + \"haarcascade_eye.xml\")\n",
    "\n",
    "# Function to preprocess and predict\n",
    "def predict_drowsiness(image):\n",
    "    inputs = feature_extractor(images=image, return_tensors=\"pt\").to(device)\n",
    "    with torch.no_grad():\n",
    "        outputs = model(**inputs)\n",
    "        probabilities = torch.softmax(outputs.logits, dim=1)\n",
    "        _, predicted = torch.max(outputs.logits, 1)\n",
    "    return predicted.item(), probabilities[0][predicted.item()].item()\n",
    "\n",
    "# Open the camera\n",
    "cap = cv2.VideoCapture(0)\n",
    "\n",
    "while True:\n",
    "    ret, frame = cap.read()\n",
    "    if not ret:\n",
    "        break\n",
    "\n",
    "    # Convert frame to grayscale for face and eye detection\n",
    "    gray = cv2.cvtColor(frame, cv2.COLOR_BGR2GRAY)\n",
    "    faces = face_cascade.detectMultiScale(gray, scaleFactor=1.1, minNeighbors=5, minSize=(30, 30))\n",
    "\n",
    "    for (x, y, w, h) in faces:\n",
    "        # Draw bounding box around the face\n",
    "        cv2.rectangle(frame, (x, y), (x+w, y+h), (255, 0, 0), 2)  # Blue box for face\n",
    "\n",
    "        # Extract face region for eye detection\n",
    "        face_roi = gray[y:y+h, x:x+w]\n",
    "        eyes = eye_cascade.detectMultiScale(face_roi, scaleFactor=1.1, minNeighbors=5, minSize=(30, 30))\n",
    "\n",
    "        # Check if eyes are detected\n",
    "        if len(eyes) > 0:\n",
    "            # Assume the first detected eye is used for drowsiness classification\n",
    "            (ex, ey, ew, eh) = eyes[0]\n",
    "            eye = frame[y+ey:y+ey+eh, x+ex:x+ex+ew]\n",
    "            eye_pil = Image.fromarray(cv2.cvtColor(eye, cv2.COLOR_BGR2RGB))\n",
    "\n",
    "            # Predict drowsiness (open or closed eyes)\n",
    "            class_id, confidence = predict_drowsiness(eye_pil)\n",
    "            class_name = \"Drowsy\" if class_id == 0 else \"Not Drowsy\"  # Adjust based on your class mapping\n",
    "            color = (0, 0, 255) if class_name == \"Drowsy\" else (0, 255, 0)  # Red for drowsy, Green for not drowsy\n",
    "        else:\n",
    "            # If no eyes are detected, assume \"Not Drowsy\"\n",
    "            class_name = \"Not Drowsy\"\n",
    "            color = (0, 255, 0)  # Green for not drowsy\n",
    "\n",
    "        # Display drowsiness status above the face bounding box\n",
    "        cv2.putText(frame, f\"Status: {class_name}\", (x, y-20), cv2.FONT_HERSHEY_SIMPLEX, 0.9, color, 2)\n",
    "\n",
    "    # Display the frame\n",
    "    cv2.imshow(\"Drowsiness Detection (Face + Eye-Based)\", frame)\n",
    "\n",
    "    # Exit on 'q' key press\n",
    "    if cv2.waitKey(1) & 0xFF == ord('q'):\n",
    "        break\n",
    "\n",
    "# Release the camera and close windows\n",
    "cap.release()\n",
    "cv2.destroyAllWindows()"
   ]
  }
 ],
 "metadata": {
  "kernelspec": {
   "display_name": ".venv",
   "language": "python",
   "name": "python3"
  },
  "language_info": {
   "codemirror_mode": {
    "name": "ipython",
    "version": 3
   },
   "file_extension": ".py",
   "mimetype": "text/x-python",
   "name": "python",
   "nbconvert_exporter": "python",
   "pygments_lexer": "ipython3",
   "version": "3.12.8"
  }
 },
 "nbformat": 4,
 "nbformat_minor": 2
}
